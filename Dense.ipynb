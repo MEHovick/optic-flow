{
 "cells": [
  {
   "cell_type": "code",
   "execution_count": 3,
   "metadata": {},
   "outputs": [],
   "source": [
    "import cv2 as cv\n",
    "import numpy as np\n",
    "\n",
    "\n",
    "cap = cv.VideoCapture(\"video/0.mp4\")\n",
    "\n",
    "# ret = a boolean return value from\n",
    "# getting the frame, first_frame = the\n",
    "# first frame in the entire video sequence\n",
    "ret, first_frame = cap.read()\n",
    "\n",
    "# Converts frame to grayscale because we\n",
    "# only need the luminance channel for\n",
    "# detecting edges - less computationally\n",
    "# expensive\n",
    "prev_gray = cv.cvtColor(first_frame, cv.COLOR_BGR2GRAY)\n",
    "\n",
    "# Creates an image filled with zero\n",
    "# intensities with the same dimensions\n",
    "# as the frame\n",
    "mask = np.zeros_like(first_frame)\n",
    "\n",
    "# Sets image saturation to maximum\n",
    "mask[..., 1] = 255\n",
    "\n",
    "out = cv.VideoWriter('res.mp4', cv.VideoWriter_fourcc('m','p','4','v'), cap.get(cv.CAP_PROP_FPS),\n",
    "\t\t\t\t\t(first_frame.shape[1], first_frame.shape[0]))\n",
    "\n",
    "while(cap.isOpened()):\n",
    "\t\n",
    "\t# ret = a boolean return value from getting\n",
    "\t# the frame, frame = the current frame being\n",
    "\t# projected in the video\n",
    "\tret, frame = cap.read()\n",
    "\t\n",
    "\tif ret == True:\n",
    "\t\t# Converts each frame to grayscale - we previously\n",
    "\t\t# only converted the first frame to grayscale\n",
    "\t\tgray = cv.cvtColor(frame, cv.COLOR_BGR2GRAY)\n",
    "\t\t\n",
    "\t\t# Calculates dense optical flow by Farneback method\n",
    "\t\tflow = cv.calcOpticalFlowFarneback(prev_gray, gray, None,\n",
    "\t\t\t\t\t\t\t\t\t\t\t0.5, 3, 15, 3, 5, 1.2, 0)\n",
    "\t\t\n",
    "\t\t# Computes the magnitude and angle of the 2D vectors\n",
    "\t\tmagnitude, angle = cv.cartToPolar(flow[..., 0], flow[..., 1])\n",
    "\t\t\n",
    "\t\t# Sets image hue according to the optical flow\n",
    "\t\t# direction\n",
    "\t\tmask[..., 0] = angle * 180 / np.pi / 2\n",
    "\t\t\n",
    "\t\t# Sets image value according to the optical flow\n",
    "\t\t# magnitude (normalized)\n",
    "\t\tmask[..., 2] = cv.normalize(magnitude, None, 0, 255, cv.NORM_MINMAX)\n",
    "\t\t\n",
    "\t\t# Converts HSV to RGB (BGR) color representation\n",
    "\t\trgb = cv.cvtColor(mask, cv.COLOR_HSV2BGR)\n",
    "\t\t\n",
    "\t\tout.write(rgb)\n",
    "\t\t\n",
    "\t\t# Updates previous frame\n",
    "\t\tprev_gray = gray\n",
    "\telse:\n",
    "\t\tbreak\n",
    "\n",
    "cap.release()\n",
    "out.release()\n",
    "cv.destroyAllWindows()"
   ]
  }
 ],
 "metadata": {
  "kernelspec": {
   "display_name": "Python 3.10.6 ('.venv': venv)",
   "language": "python",
   "name": "python3"
  },
  "language_info": {
   "codemirror_mode": {
    "name": "ipython",
    "version": 3
   },
   "file_extension": ".py",
   "mimetype": "text/x-python",
   "name": "python",
   "nbconvert_exporter": "python",
   "pygments_lexer": "ipython3",
   "version": "3.10.6"
  },
  "orig_nbformat": 4,
  "vscode": {
   "interpreter": {
    "hash": "873e335dad4a4243fcff4cb54b9d669d96102a046f7832cd319c7c5e88835e06"
   }
  }
 },
 "nbformat": 4,
 "nbformat_minor": 2
}
