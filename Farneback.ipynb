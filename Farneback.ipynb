{
 "cells": [
  {
   "cell_type": "code",
   "execution_count": 1,
   "metadata": {},
   "outputs": [],
   "source": [
    "import cv2 as cv\n",
    "import numpy as np"
   ]
  },
  {
   "cell_type": "code",
   "execution_count": 2,
   "metadata": {},
   "outputs": [],
   "source": [
    "def gist(img):\n",
    "    hist, bins = np.histogram(img, 350)\n",
    "    cdf = hist.cumsum()\n",
    "    cdf = (cdf-cdf[0])*255/(cdf[-1]-1)\n",
    "    cdf = cdf.astype(np.uint8)\n",
    "    return cdf[img]"
   ]
  },
  {
   "cell_type": "code",
   "execution_count": 3,
   "metadata": {},
   "outputs": [],
   "source": [
    "def mask(rgb):\n",
    "    tmp = np.ones(rgb.shape)\n",
    "    rgb = np.where(rgb.sum(axis=2) == 0, 0, 255)\n",
    "    rgb = rgb[..., np.newaxis]\n",
    "    rgb = (rgb * tmp).astype(np.uint8)\n",
    "    return rgb"
   ]
  },
  {
   "cell_type": "code",
   "execution_count": 4,
   "metadata": {},
   "outputs": [],
   "source": [
    "def check_dist(prev_p, p, r=10):\n",
    "    for i in range(p.shape[0]):\n",
    "        for j in range(p.shape[1]):\n",
    "            if(prev_p[max(0,i-r):min(p.shape[0], i + r),max(0,j-r):min(p.shape[1], j + r)].sum() == 0):\n",
    "                p[i,j] = 0\n",
    "    return p"
   ]
  },
  {
   "cell_type": "code",
   "execution_count": 5,
   "metadata": {},
   "outputs": [],
   "source": [
    "def fb_from_video(video_file):\n",
    "    cap = cv.VideoCapture(video_file)\n",
    "\n",
    "    # Хуета 1\n",
    "    frame_space = 5\n",
    "    frame_array = []\n",
    "    for i in range(frame_space):\n",
    "        ret, first_frame = cap.read()\n",
    "        hsv = np.zeros_like(first_frame)\n",
    "        mask_pred = np.zeros_like(first_frame)\n",
    "        prev_gray = cv.cvtColor(first_frame, cv.COLOR_BGR2GRAY)\n",
    "        frame_array.append(prev_gray)\n",
    "    hsv[..., 1] = 255\n",
    "    prev_p = np.nan\n",
    "    num_frame = 0\n",
    "    skip=10\n",
    "    \n",
    "    ret, first_frame = cap.read()\n",
    "    prev_gray = cv.cvtColor(first_frame, cv.COLOR_BGR2GRAY)\n",
    "    hsv = np.zeros_like(first_frame)\n",
    "    hsv[..., 1] = 255\n",
    "\n",
    "    out = cv.VideoWriter('res2.mp4', cv.VideoWriter_fourcc('m','p','4','v'), cap.get(cv.CAP_PROP_FPS),\n",
    "                        (frame_array[0].shape[1], frame_array[0].shape[0]))\n",
    "\n",
    "    while(cap.isOpened()):\n",
    "        # Хуета 4\n",
    "        num_frame += 1\n",
    "\n",
    "        ret, frame = cap.read()\n",
    "\n",
    "        if ret == True:\n",
    "        \n",
    "            # cv.imshow(\"input1\", frame)\n",
    "            # gray = cv.cvtColor(frame, cv.COLOR_BGR2GRAY)\n",
    "            # gray = gist(gray)\n",
    "\n",
    "            gray = cv.cvtColor(frame, cv.COLOR_BGR2HSV)\n",
    "            gray[..., 0] = 50\n",
    "            gray = cv.cvtColor(gray, cv.COLOR_HSV2BGR)\n",
    "            gray = cv.cvtColor(gray, cv.COLOR_BGR2GRAY)\n",
    "            #cv.imshow(\"input2\", gray)\n",
    "\n",
    "            # cv.imshow(\"input2\", gray)\n",
    "            flow = cv.calcOpticalFlowFarneback(prev_gray, gray, None, 0.5, 3, 15, 3, 5, 1.2, 0)\n",
    "            magnitude, angle = cv.cartToPolar(flow[..., 0], flow[..., 1])\n",
    "            hsv[..., 0] = angle * 180 / np.pi / 2\n",
    "            hsv[..., 2] = cv.normalize(magnitude, None, 0, 255, cv.NORM_MINMAX)\n",
    "\n",
    "            # Хуета 2\n",
    "            if (hsv[..., 2].sum() == 0):\n",
    "                hsv = mask_pred\n",
    "            \n",
    "            bgr = cv.cvtColor(hsv, cv.COLOR_HSV2BGR)\n",
    "\n",
    "            # Хуета 3\n",
    "            frame_array.pop(0)\n",
    "            frame_array.append(gray)\n",
    "            mask_pred = np.copy(hsv)\n",
    "\n",
    "            bgr = mask(bgr)\n",
    "\n",
    "            # Хуета 5\n",
    "            if num_frame > skip:\n",
    "                bgr = check_dist(prev_p, bgr)\n",
    "                prev_p = bgr\n",
    "            elif num_frame < skip:\n",
    "                if (num_frame == 1):\n",
    "                    prev_p = bgr\n",
    "                else:\n",
    "                    prev_p += bgr\n",
    "            else:\n",
    "                prev_p += prev_p\n",
    "                prev_p //= skip\n",
    "\n",
    "            #cv.imshow(\"dense optical flow\", bgr)\n",
    "            prev_gray = gray\n",
    "            out.write(bgr)\n",
    "        else:\n",
    "            break\n",
    "    \n",
    "    cap.release()\n",
    "    cv.destroyAllWindows()"
   ]
  },
  {
   "cell_type": "code",
   "execution_count": 6,
   "metadata": {},
   "outputs": [],
   "source": [
    "fb_from_video('video/6.mp4')"
   ]
  }
 ],
 "metadata": {
  "kernelspec": {
   "display_name": "Python 3.10.6 64-bit",
   "language": "python",
   "name": "python3"
  },
  "language_info": {
   "codemirror_mode": {
    "name": "ipython",
    "version": 3
   },
   "file_extension": ".py",
   "mimetype": "text/x-python",
   "name": "python",
   "nbconvert_exporter": "python",
   "pygments_lexer": "ipython3",
   "version": "3.10.6"
  },
  "orig_nbformat": 4,
  "vscode": {
   "interpreter": {
    "hash": "31f2aee4e71d21fbe5cf8b01ff0e069b9275f58929596ceb00d14d90e3e16cd6"
   }
  }
 },
 "nbformat": 4,
 "nbformat_minor": 2
}
