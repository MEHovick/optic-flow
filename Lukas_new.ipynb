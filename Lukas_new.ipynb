{
 "cells": [
  {
   "cell_type": "code",
   "execution_count": null,
   "metadata": {},
   "outputs": [],
   "source": [
    "import cv2 as cv\n",
    "import numpy as np\n",
    "\n",
    "\n",
    "# Parameters for Shi-Tomasi corner detection\n",
    "feature_params = dict(maxCorners = 300,\n",
    "                      qualityLevel = 0.2,\n",
    "                      minDistance = 2,\n",
    "                      blockSize = 7)\n",
    "# Parameters for Lucas-Kanade optical flow\n",
    "lk_params = dict(winSize = (15,15),\n",
    "                 maxLevel = 2,\n",
    "                 criteria = (cv.TERM_CRITERIA_EPS | cv.TERM_CRITERIA_COUNT, 10, 0.03))\n",
    "# Variable for color to draw optical flow track\n",
    "color = (0, 255, 0)\n",
    "\n",
    "\n",
    "def lk_from_video(file):\n",
    "    # The video feed is read in as a VideoCapture object\n",
    "    cap = cv.VideoCapture(file)\n",
    "    # ret = a boolean return value from getting the frame, first_frame = the first frame in the entire video sequence\n",
    "    ret, first_frame = cap.read()\n",
    "    # Converts frame to grayscale because we only need the luminance channel for detecting edges - less computationally expensive\n",
    "    prev_gray = cv.cvtColor(first_frame, cv.COLOR_BGR2GRAY)\n",
    "    # Finds the strongest corners in the first frame by Shi-Tomasi method - we will track the optical flow for these corners\n",
    "    # https://docs.opencv.org/3.0-beta/modules/imgproc/doc/feature_detection.html#goodfeaturestotrack\n",
    "    prev = cv.goodFeaturesToTrack(prev_gray, mask = None, **feature_params)\n",
    "    # Creates an image filled with zero intensities with the same dimensions as the frame - for later drawing purposes\n",
    "    mask = np.zeros_like(first_frame)\n",
    "    # Index of current frame\n",
    "    idx = 0\n",
    "\n",
    "    while(cap.isOpened()):\n",
    "        # ret = a boolean return value from getting the frame, frame = the current frame being projected in the video\n",
    "        ret, frame = cap.read()\n",
    "        # Converts each frame to grayscale - we previously only converted the first frame to grayscale\n",
    "        gray = cv.cvtColor(frame, cv.COLOR_BGR2GRAY)\n",
    "        # Calculates sparse optical flow by Lucas-Kanade method\n",
    "        # https://docs.opencv.org/3.0-beta/modules/video/doc/motion_analysis_and_object_tracking.html#calcopticalflowpyrlk\n",
    "        next, status, error = cv.calcOpticalFlowPyrLK(prev_gray, gray, prev, None, **lk_params)\n",
    "        # Selects good feature points for previous position\n",
    "        good_old = prev[status == 1]\n",
    "        # Selects good feature points for next position\n",
    "        good_new = next[status == 1]\n",
    "        # Draws the optical flow tracks\n",
    "        for i, (new, old) in enumerate(zip(good_new, good_old)):\n",
    "            # Returns a contiguous flattened array as (x, y) coordinates for new point\n",
    "            a, b = new.ravel().astype(np.uint8)\n",
    "            # Returns a contiguous flattened array as (x, y) coordinates for old point\n",
    "            c, d = old.ravel().astype(np.uint8)\n",
    "            # Draws line between new and old position with green color and 2 thickness\n",
    "            mask = cv.line(mask, (a, b), (c, d), color, 2)\n",
    "            # Draws filled circle (thickness of -1) at new position with green color and radius of 3\n",
    "            frame = cv.circle(frame, (a, b), 3, color, -1)\n",
    "        # Overlays the optical flow tracks on the original frame\n",
    "        output = cv.add(frame, mask)\n",
    "        # Updates previous frame\n",
    "        prev_gray = gray.copy()\n",
    "        # Updates previous good feature points\n",
    "        prev = good_new.reshape(-1, 1, 2)\n",
    "        idx += 1\n",
    "        # Opens a new window and displays the output frame\n",
    "        cv.imshow(\"sparse optical flow\", output)\n",
    "        # Frames are read by intervals of 10 milliseconds. The programs breaks out of the while loop when the user presses the 'q' key\n",
    "        k = cv.waitKey(10) & 0xFF\n",
    "        if k == ord('q'):\n",
    "            break\n",
    "        elif k == ord('s'):\n",
    "            cv.imwrite(f'optical_lk_{idx}.png', output)\n",
    "\n",
    "    # The following frees up resources and closes all windows\n",
    "    cap.release()\n",
    "    cv.destroyAllWindows()"
   ]
  },
  {
   "cell_type": "code",
   "execution_count": null,
   "metadata": {},
   "outputs": [],
   "source": [
    "lk_from_video('video/0.mp4')"
   ]
  }
 ],
 "metadata": {
  "kernelspec": {
   "display_name": "Python 3.10.6 64-bit",
   "language": "python",
   "name": "python3"
  },
  "language_info": {
   "codemirror_mode": {
    "name": "ipython",
    "version": 3
   },
   "file_extension": ".py",
   "mimetype": "text/x-python",
   "name": "python",
   "nbconvert_exporter": "python",
   "pygments_lexer": "ipython3",
   "version": "3.10.6"
  },
  "orig_nbformat": 4,
  "vscode": {
   "interpreter": {
    "hash": "916dbcbb3f70747c44a77c7bcd40155683ae19c65e1c03b4aa3499c5328201f1"
   }
  }
 },
 "nbformat": 4,
 "nbformat_minor": 2
}
